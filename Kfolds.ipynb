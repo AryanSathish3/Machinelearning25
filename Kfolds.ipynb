{
  "nbformat": 4,
  "nbformat_minor": 0,
  "metadata": {
    "colab": {
      "provenance": [],
      "authorship_tag": "ABX9TyNEs0y+uiC1MVuYz8I9umyE",
      "include_colab_link": true
    },
    "kernelspec": {
      "name": "python3",
      "display_name": "Python 3"
    },
    "language_info": {
      "name": "python"
    }
  },
  "cells": [
    {
      "cell_type": "markdown",
      "metadata": {
        "id": "view-in-github",
        "colab_type": "text"
      },
      "source": [
        "<a href=\"https://colab.research.google.com/github/AryanSathish3/Machinelearning25/blob/main/Kfolds.ipynb\" target=\"_parent\"><img src=\"https://colab.research.google.com/assets/colab-badge.svg\" alt=\"Open In Colab\"/></a>"
      ]
    },
    {
      "cell_type": "code",
      "source": [
        "import pandas as pd\n",
        "from sklearn.model_selection import StratifiedKFold\n",
        "from sklearn.linear_model import LogisticRegression\n",
        "from sklearn.preprocessing import OneHotEncoder\n",
        "from sklearn.compose import ColumnTransformer\n",
        "from sklearn.pipeline import Pipeline\n",
        "from sklearn.metrics import accuracy_score\n",
        "import numpy as np"
      ],
      "metadata": {
        "id": "p9V2_LH6Vz3l"
      },
      "execution_count": null,
      "outputs": []
    },
    {
      "cell_type": "code",
      "source": [
        "df = pd.read_csv('lung_cancer_dataset.csv')\n"
      ],
      "metadata": {
        "id": "ebAQB-4cYB8e"
      },
      "execution_count": null,
      "outputs": []
    },
    {
      "cell_type": "code",
      "source": [
        "df = df.drop('patient_id', axis=1)"
      ],
      "metadata": {
        "id": "CcrIwgKrYH3r"
      },
      "execution_count": null,
      "outputs": []
    },
    {
      "cell_type": "code",
      "source": [
        "X = df.drop('lung_cancer', axis=1)\n",
        "y = df['lung_cancer']"
      ],
      "metadata": {
        "id": "kWlLyNPOYL2c"
      },
      "execution_count": null,
      "outputs": []
    },
    {
      "cell_type": "code",
      "source": [
        "categorical_features = X.select_dtypes(include=['object']).columns"
      ],
      "metadata": {
        "id": "pzAZZojsYRLj"
      },
      "execution_count": null,
      "outputs": []
    },
    {
      "cell_type": "code",
      "source": [
        "categorical_transformer = OneHotEncoder(handle_unknown='ignore')"
      ],
      "metadata": {
        "id": "Y2HMxFTvYW-D"
      },
      "execution_count": null,
      "outputs": []
    },
    {
      "cell_type": "code",
      "source": [
        "preprocessor = ColumnTransformer(\n",
        "    transformers=[\n",
        "        ('cat', categorical_transformer, categorical_features)],\n",
        "    remainder='passthrough')"
      ],
      "metadata": {
        "id": "g6dClXM1YaqD"
      },
      "execution_count": null,
      "outputs": []
    },
    {
      "cell_type": "code",
      "source": [
        "model = Pipeline(steps=[\n",
        "    ('preprocessor', preprocessor),\n",
        "    ('classifier', LogisticRegression(solver='liblinear'))\n",
        "])"
      ],
      "metadata": {
        "id": "oJWHOm5vYdSj"
      },
      "execution_count": null,
      "outputs": []
    },
    {
      "cell_type": "code",
      "source": [
        "n_splits = 5\n",
        "skf = StratifiedKFold(n_splits=n_splits, shuffle=True, random_state=42)\n"
      ],
      "metadata": {
        "id": "EZeuaUAfYgNL"
      },
      "execution_count": null,
      "outputs": []
    },
    {
      "cell_type": "code",
      "source": [
        "accuracy_scores = []"
      ],
      "metadata": {
        "id": "Bog0fGEbYi6z"
      },
      "execution_count": null,
      "outputs": []
    },
    {
      "cell_type": "code",
      "source": [
        "print(f\"Performing {n_splits}-fold cross-validation...\")\n",
        "fold_count = 1\n",
        "for train_index, test_index in skf.split(X, y):\n",
        "    X_train, X_test = X.iloc[train_index], X.iloc[test_index]\n",
        "    y_train, y_test = y.iloc[train_index], y.iloc[test_index]\n",
        "    model.fit(X_train, y_train)\n",
        "    y_pred = model.predict(X_test)\n",
        "    accuracy = accuracy_score(y_test, y_pred)\n",
        "    accuracy_scores.append(accuracy)\n",
        "    print(f\"Fold {fold_count} accuracy: {accuracy:.4f}\")\n",
        "    fold_count += 1\n",
        "mean_accuracy = np.mean(accuracy_scores)\n",
        "std_accuracy = np.std(accuracy_scores)\n",
        "print(\"\\n--- Cross-Validation Results ---\")\n",
        "print(f\"Accuracy scores for each fold: {accuracy_scores}\")\n",
        "print(f\"Mean accuracy: {mean_accuracy:.4f}\")\n",
        "print(f\"Standard deviation of accuracy: {std_accuracy:.4f}\")"
      ],
      "metadata": {
        "colab": {
          "base_uri": "https://localhost:8080/"
        },
        "id": "eFYJ8VrMYlnT",
        "outputId": "19d6efd6-d6f8-4586-db7d-3738f76d4085"
      },
      "execution_count": null,
      "outputs": [
        {
          "output_type": "stream",
          "name": "stdout",
          "text": [
            "Performing 5-fold cross-validation...\n",
            "Fold 1 accuracy: 0.7177\n",
            "Fold 2 accuracy: 0.7191\n",
            "Fold 3 accuracy: 0.7221\n",
            "Fold 4 accuracy: 0.7199\n",
            "Fold 5 accuracy: 0.7200\n",
            "\n",
            "--- Cross-Validation Results ---\n",
            "Accuracy scores for each fold: [0.7177, 0.7191, 0.7221, 0.7199, 0.72]\n",
            "Mean accuracy: 0.7198\n",
            "Standard deviation of accuracy: 0.0014\n"
          ]
        }
      ]
    },
    {
      "cell_type": "code",
      "source": [
        "import pandas as pd\n",
        "from sklearn.model_selection import StratifiedKFold\n",
        "from sklearn.linear_model import LogisticRegression\n",
        "from sklearn.preprocessing import OneHotEncoder\n",
        "from sklearn.compose import ColumnTransformer\n",
        "from sklearn.pipeline import Pipeline\n",
        "from sklearn.metrics import accuracy_score\n",
        "import numpy as np\n",
        "df = pd.read_csv('lung_cancer_dataset.csv')\n",
        "print(\"Data head:\")\n",
        "print(df.head())\n",
        "print(\"\\nData info:\")\n",
        "print(df.info())\n",
        "df = df.drop('patient_id', axis=1)\n",
        "X = df.drop('lung_cancer', axis=1)\n",
        "y = df['lung_cancer']\n",
        "categorical_features = X.select_dtypes(include=['object']).columns\n",
        "preprocessor = ColumnTransformer(\n",
        "    transformers=[\n",
        "        ('cat', OneHotEncoder(handle_unknown='ignore'), categorical_features)],\n",
        "    remainder='passthrough')\n",
        "model = Pipeline(steps=[\n",
        "    ('preprocessor', preprocessor),\n",
        "    ('classifier', LogisticRegression(solver='liblinear'))\n",
        "])\n",
        "n_splits = 2\n",
        "skf = StratifiedKFold(n_splits=n_splits, shuffle=True, random_state=42)\n",
        "accuracy_scores = []\n",
        "print(f\"\\nPerforming {n_splits}-fold cross-validation...\")\n",
        "fold_count = 1\n",
        "for train_index, test_index in skf.split(X, y):\n",
        "    X_train, X_test = X.iloc[train_index], X.iloc[test_index]\n",
        "    y_train, y_test = y.iloc[train_index], y.iloc[test_index]\n",
        "    model.fit(X_train, y_train)\n",
        "    y_pred = model.predict(X_test)\n",
        "    accuracy = accuracy_score(y_test, y_pred)\n",
        "    accuracy_scores.append(accuracy)\n",
        "    print(f\"Fold {fold_count} accuracy: {accuracy:.4f}\")\n",
        "    fold_count += 1\n",
        "mean_accuracy = np.mean(accuracy_scores)\n",
        "std_accuracy = np.std(accuracy_scores)\n",
        "\n",
        "print(\"\\n--- Cross-Validation Results ---\")\n",
        "print(f\"Accuracy scores for each fold: {accuracy_scores}\")\n",
        "print(f\"Mean accuracy: {mean_accuracy:.4f}\")\n",
        "print(f\"Standard deviation of accuracy: {std_accuracy:.4f}\")"
      ],
      "metadata": {
        "colab": {
          "base_uri": "https://localhost:8080/"
        },
        "id": "UAIes646YwBT",
        "outputId": "9559230f-7e66-4d69-dd31-5c3c5a64bf3d"
      },
      "execution_count": null,
      "outputs": [
        {
          "output_type": "stream",
          "name": "stdout",
          "text": [
            "Data head:\n",
            "   patient_id  age  gender  pack_years radon_exposure asbestos_exposure  \\\n",
            "0      100000   69    Male   66.025244           High                No   \n",
            "1      100001   32  Female   12.780800           High                No   \n",
            "2      100002   89  Female    0.408278         Medium               Yes   \n",
            "3      100003   78  Female   44.065232            Low                No   \n",
            "4      100004   38  Female   44.432440         Medium               Yes   \n",
            "\n",
            "  secondhand_smoke_exposure copd_diagnosis alcohol_consumption family_history  \\\n",
            "0                        No            Yes            Moderate             No   \n",
            "1                       Yes            Yes            Moderate            Yes   \n",
            "2                       Yes            Yes                 NaN             No   \n",
            "3                       Yes             No            Moderate             No   \n",
            "4                        No            Yes                 NaN            Yes   \n",
            "\n",
            "  lung_cancer  \n",
            "0          No  \n",
            "1         Yes  \n",
            "2         Yes  \n",
            "3         Yes  \n",
            "4         Yes  \n",
            "\n",
            "Data info:\n",
            "<class 'pandas.core.frame.DataFrame'>\n",
            "RangeIndex: 50000 entries, 0 to 49999\n",
            "Data columns (total 11 columns):\n",
            " #   Column                     Non-Null Count  Dtype  \n",
            "---  ------                     --------------  -----  \n",
            " 0   patient_id                 50000 non-null  int64  \n",
            " 1   age                        50000 non-null  int64  \n",
            " 2   gender                     50000 non-null  object \n",
            " 3   pack_years                 50000 non-null  float64\n",
            " 4   radon_exposure             50000 non-null  object \n",
            " 5   asbestos_exposure          50000 non-null  object \n",
            " 6   secondhand_smoke_exposure  50000 non-null  object \n",
            " 7   copd_diagnosis             50000 non-null  object \n",
            " 8   alcohol_consumption        33338 non-null  object \n",
            " 9   family_history             50000 non-null  object \n",
            " 10  lung_cancer                50000 non-null  object \n",
            "dtypes: float64(1), int64(2), object(8)\n",
            "memory usage: 4.2+ MB\n",
            "None\n",
            "\n",
            "Performing 2-fold cross-validation...\n",
            "Fold 1 accuracy: 0.7184\n",
            "Fold 2 accuracy: 0.7209\n",
            "\n",
            "--- Cross-Validation Results ---\n",
            "Accuracy scores for each fold: [0.71836, 0.72088]\n",
            "Mean accuracy: 0.7196\n",
            "Standard deviation of accuracy: 0.0013\n"
          ]
        }
      ]
    },
    {
      "cell_type": "code",
      "source": [
        "import pandas as pd\n",
        "from sklearn.model_selection import StratifiedKFold, GridSearchCV\n",
        "from sklearn.linear_model import LogisticRegression\n",
        "from sklearn.preprocessing import OneHotEncoder\n",
        "from sklearn.compose import ColumnTransformer\n",
        "from sklearn.pipeline import Pipeline\n",
        "import numpy as np\n",
        "\n",
        "df = pd.read_csv('lung_cancer_dataset.csv')\n",
        "\n",
        "df = df.drop('patient_id', axis=1)\n",
        "\n",
        "X = df.drop('lung_cancer', axis=1)\n",
        "y = df['lung_cancer']\n",
        "\n",
        "categorical_features = X.select_dtypes(include=['object']).columns\n",
        "\n",
        "preprocessor = ColumnTransformer(\n",
        "    transformers=[\n",
        "        ('cat', OneHotEncoder(handle_unknown='ignore'), categorical_features)],\n",
        "    remainder='passthrough')\n",
        "\n",
        "pipeline = Pipeline(steps=[\n",
        "    ('preprocessor', preprocessor),\n",
        "    ('classifier', LogisticRegression(solver='liblinear'))\n",
        "])\n",
        "\n",
        "param_grid = {\n",
        "    'classifier__C': np.logspace(-3, 3, 7),\n",
        "    'classifier__penalty': ['l1', 'l2']\n",
        "}\n",
        "\n",
        "cv_strategy = StratifiedKFold(n_splits=3, shuffle=True, random_state=42)\n",
        "\n",
        "grid_search = GridSearchCV(\n",
        "    pipeline,\n",
        "    param_grid,\n",
        "    cv=cv_strategy,\n",
        "    scoring='accuracy',\n",
        "    n_jobs=-1,\n",
        "    verbose=1\n",
        ")\n",
        "\n",
        "grid_search.fit(X, y)\n",
        "\n",
        "print(\"Best hyperparameters found: \", grid_search.best_params_)\n",
        "print(\"Best cross-validation accuracy: {:.4f}\".format(grid_search.best_score_))"
      ],
      "metadata": {
        "id": "2QHUaTVXfFUV",
        "outputId": "9cb1cdfe-c746-4ffd-adbc-1247d420c358",
        "colab": {
          "base_uri": "https://localhost:8080/"
        }
      },
      "execution_count": null,
      "outputs": [
        {
          "output_type": "stream",
          "name": "stdout",
          "text": [
            "Fitting 3 folds for each of 14 candidates, totalling 42 fits\n"
          ]
        }
      ]
    }
  ]
}